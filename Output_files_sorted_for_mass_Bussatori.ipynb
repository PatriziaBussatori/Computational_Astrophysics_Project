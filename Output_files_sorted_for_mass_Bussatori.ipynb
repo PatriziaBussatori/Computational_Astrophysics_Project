{
 "cells": [
  {
   "cell_type": "code",
   "execution_count": 3,
   "id": "568521df",
   "metadata": {},
   "outputs": [],
   "source": [
    "%matplotlib notebook\n",
    "import matplotlib.pyplot as plt \n",
    "import matplotlib.image as mpimg\n",
    "import numpy as np\n",
    "import scipy\n",
    "import os"
   ]
  },
  {
   "cell_type": "code",
   "execution_count": 4,
   "id": "72dcca8d",
   "metadata": {},
   "outputs": [],
   "source": [
    "plt.rcParams.update({'font.size': 14})"
   ]
  },
  {
   "cell_type": "code",
   "execution_count": 5,
   "id": "e1c9625c",
   "metadata": {},
   "outputs": [],
   "source": [
    "filepath = \"/home/student/Documents/Computational_astrophysics/file_output/results_stel_ev_m2_e4_1.txt\"\n",
    "data = np.genfromtxt(filepath,skip_header=1,unpack=True)\n",
    "#print(np.shape(data)) \n",
    "data = np.transpose(data)\n",
    "#print(np.shape(data))\n",
    "\n",
    "#To exchange\n",
    "NAME1=data[:,0]\n",
    "NAME2=data[:,1]\n",
    "MASS1=data[:,2]\n",
    "MASS2=data[:,3]\n",
    "\n",
    "#Equal for everyone\n",
    "xcm=data[:,4]\n",
    "ycm=data[:,5]\n",
    "zcm=data[:,6]\n",
    "a=data[:,7]\n",
    "ecc=data[:,8]\n",
    "p=data[:,9]\n",
    "time=data[:,10]"
   ]
  },
  {
   "cell_type": "code",
   "execution_count": 6,
   "id": "b3bf4f4f",
   "metadata": {},
   "outputs": [],
   "source": [
    "name1=np.zeros(len(NAME1))\n",
    "name2=np.zeros(len(NAME2))\n",
    "mass1=np.zeros(len(MASS1))\n",
    "mass2=np.zeros(len(MASS2))"
   ]
  },
  {
   "cell_type": "code",
   "execution_count": 7,
   "id": "8782549a",
   "metadata": {},
   "outputs": [],
   "source": [
    "for i in range(len(NAME1)):\n",
    "        if (MASS1[i]<MASS2[i]):\n",
    "            name1[i]=NAME1[i]\n",
    "            name2[i]=NAME2[i]\n",
    "            mass1[i]=MASS1[i]\n",
    "            mass2[i]=MASS2[i]\n",
    "        if (MASS1[i]>MASS2[i]):\n",
    "            name1[i]=NAME2[i]\n",
    "            name2[i]=NAME1[i]\n",
    "            mass1[i]=MASS2[i]\n",
    "            mass2[i]=MASS1[i]"
   ]
  },
  {
   "cell_type": "code",
   "execution_count": 8,
   "id": "a9f0b683",
   "metadata": {},
   "outputs": [],
   "source": [
    "fileout = open('sorted_results_stel_ev_m2_e4_5.txt', 'w')\n",
    "fileout.write(\"#name1, name2, mass1, mass2, xcm, ycm, zcm, a, ecc, P, time \\n\")\n",
    "for i in range(len(name1)):\n",
    "    fileout.write(str(name1[i])+\"    \"+str(name2[i])+\"    \"+str(mass1[i])+\"    \"+str(mass2[i])+\"    \"+str(xcm[i])+\\\n",
    "                  \"    \"+str(ycm[i])+\"    \"+str(zcm[i])+\"    \"+str(a[i])+\"    \"+str(ecc[i])+\"    \"+\\\n",
    "                  str(p[i])+\"    \"+str(time[i])+\"\\n\")\n",
    "fileout.close()"
   ]
  },
  {
   "cell_type": "code",
   "execution_count": null,
   "id": "19fedbad",
   "metadata": {},
   "outputs": [],
   "source": []
  }
 ],
 "metadata": {
  "kernelspec": {
   "display_name": "Python 3 (ipykernel)",
   "language": "python",
   "name": "python3"
  },
  "language_info": {
   "codemirror_mode": {
    "name": "ipython",
    "version": 3
   },
   "file_extension": ".py",
   "mimetype": "text/x-python",
   "name": "python",
   "nbconvert_exporter": "python",
   "pygments_lexer": "ipython3",
   "version": "3.8.2"
  }
 },
 "nbformat": 4,
 "nbformat_minor": 5
}
