{
 "cells": [
  {
   "cell_type": "code",
   "execution_count": 1,
   "metadata": {},
   "outputs": [],
   "source": [
    "import matplotlib.pyplot as plt \n",
    "import matplotlib.image as mpimg\n",
    "import numpy as np\n",
    "import scipy\n",
    "import os\n",
    "plt.rcParams.update({'font.size': 15})"
   ]
  },
  {
   "cell_type": "code",
   "execution_count": 2,
   "metadata": {},
   "outputs": [],
   "source": [
    "#data\n",
    "#name1, name2, mass1, mass2, xcm, ycm, zcm, a, ecc, P, time \n",
    "filepath=\"sorted_results_no_bin_stel_ev_m2_e4_1.txt\" \n",
    "n1,n2,m1,m2,xcm,ycm,zcm,a,ecc,P,time = np.genfromtxt(filepath,dtype=\"float\", unpack=True, skip_header=1,usecols=(0,1,2,3,4,5,6,7,8,9,10))\n",
    "n = len(n1)"
   ]
  },
  {
   "cell_type": "code",
   "execution_count": 3,
   "metadata": {},
   "outputs": [],
   "source": [
    "#data for BBH1\n",
    "m11 = []\n",
    "m21 = []\n",
    "xcm1 = []\n",
    "ycm1 = []\n",
    "zcm1 = []\n",
    "a1 = []\n",
    "ecc1 = []\n",
    "P1 = []\n",
    "time1 = []\n",
    "for i in range(n):\n",
    "    if (n1[i] == 2.0 and n2[i] ==1.0):\n",
    "        m11.append(m1[i])\n",
    "        m21.append(m2[i])\n",
    "        xcm1.append(xcm[i])\n",
    "        ycm1.append(ycm[i])\n",
    "        zcm1.append(zcm[i])\n",
    "        a1.append(a[i])\n",
    "        ecc1.append(ecc[i])\n",
    "        P1.append(P[i])\n",
    "        time1.append(time[i])\n",
    "\n",
    "m11 = np.array(m11)\n",
    "m21 = np.array(m21)\n",
    "xcm1 = np.array(xcm1)\n",
    "ycm1 = np.array(ycm1)\n",
    "zcm1 = np.array(zcm1)\n",
    "a1 = np.array(a1)\n",
    "ecc1 = np.array(ecc1)\n",
    "P1 = np.array(P1)\n",
    "time1 = np.array(time1)"
   ]
  },
  {
   "cell_type": "code",
   "execution_count": 4,
   "metadata": {},
   "outputs": [],
   "source": [
    "#data for BBH2\n",
    "m12 = []\n",
    "m22 = []\n",
    "xcm2 = []\n",
    "ycm2 = []\n",
    "zcm2 = []\n",
    "a2 = []\n",
    "ecc2 = []\n",
    "P2 = []\n",
    "time2 = []\n",
    "for i in range(n):\n",
    "    if (n1[i] == 13.0 and n2[i] ==2.0):\n",
    "        m12.append(m1[i])\n",
    "        m22.append(m2[i])\n",
    "        xcm2.append(xcm[i])\n",
    "        ycm2.append(ycm[i])\n",
    "        zcm2.append(zcm[i])\n",
    "        a2.append(a[i])\n",
    "        ecc2.append(ecc[i])\n",
    "        P2.append(P[i])\n",
    "        time2.append(time[i])\n",
    "\n",
    "m12 = np.array(m12)\n",
    "m22 = np.array(m22)\n",
    "xcm2 = np.array(xcm2)\n",
    "ycm2 = np.array(ycm2)\n",
    "zcm2 = np.array(zcm2)\n",
    "a2 = np.array(a2)\n",
    "ecc2 = np.array(ecc2)\n",
    "P2 = np.array(P2)\n",
    "time2 = np.array(time2)"
   ]
  },
  {
   "cell_type": "code",
   "execution_count": 6,
   "metadata": {},
   "outputs": [
    {
     "data": {
      "image/png": "[encoded data removed]",
      "text/plain": [
       "<Figure size 432x288 with 1 Axes>"
      ]
     },
     "metadata": {
      "needs_background": "light"
     },
     "output_type": "display_data"
    }
   ],
   "source": [
    "G = 17.83 * 10**(38)\n",
    "convert = 1/(2* 10**(36))#converts Joules to M_s km^2 s^-2\n",
    "const = G*convert\n",
    "\n",
    "\n",
    "Eb1 = np.zeros(len(time1), float)\n",
    "Eb1 = const*m11*m21/(2*a1)\n",
    "\n",
    "Eb2 = np.zeros(len(time2), float)\n",
    "Eb2 = const*m12*m22/(2*a2)\n",
    "\n",
    "\n",
    "\n",
    "plt.scatter(time1, Eb1, color=\"g\", marker='.', s=10, label='BBH1')\n",
    "plt.scatter(time2, Eb2, color=\"r\", marker='.', s=10, label='BBH1')\n",
    "\n",
    "plt.yscale('log')\n",
    "plt.xlabel('Time, [Myr]', fontsize = 15)\n",
    "plt.ylabel('E$_{bind}$,[$M_\\odot km^2 s^{-2}$]', fontsize = 15)\n",
    "plt.legend()\n",
    "plt.grid(True)\n",
    "\n",
    "plt.savefig('no_bin_stel_ev_m2_e4_1_Ebin1', dpi=300)"
   ]
  }
 ],
 "metadata": {
  "kernelspec": {
   "display_name": "Python 3",
   "language": "python",
   "name": "python3"
  },
  "language_info": {
   "codemirror_mode": {
    "name": "ipython",
    "version": 3
   },
   "file_extension": ".py",
   "mimetype": "text/x-python",
   "name": "python",
   "nbconvert_exporter": "python",
   "pygments_lexer": "ipython3",
   "version": "3.8.5"
  }
 },
 "nbformat": 4,
 "nbformat_minor": 4
}
