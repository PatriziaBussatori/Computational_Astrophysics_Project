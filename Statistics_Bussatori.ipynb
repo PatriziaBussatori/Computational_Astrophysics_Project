{
 "cells": [
  {
   "cell_type": "code",
   "execution_count": 1,
   "id": "a4e38754",
   "metadata": {},
   "outputs": [],
   "source": [
    "%matplotlib notebook\n",
    "import matplotlib.pyplot as plt \n",
    "import matplotlib.image as mpimg\n",
    "import numpy as np\n",
    "import scipy\n",
    "import os"
   ]
  },
  {
   "cell_type": "code",
   "execution_count": 95,
   "id": "c828a7f1",
   "metadata": {},
   "outputs": [
    {
     "name": "stdout",
     "output_type": "stream",
     "text": [
      "(11, 203)\n",
      "(203, 11)\n",
      "(203, 2)\n"
     ]
    }
   ],
   "source": [
    "filepath = \"/home/student/Documents/Computational_astrophysics/sorted_for_mass/sorted_results_stel_ev_m2_e4_10.txt\"\n",
    "data = np.genfromtxt(filepath,comments='#',unpack=True)\n",
    "print(np.shape(data)) \n",
    "data = np.transpose(data)\n",
    "print(np.shape(data))\n",
    "\n",
    "name1=data[:,0]\n",
    "name2=data[:,1]\n",
    "\n",
    "conc=np.array([name1,name2])\n",
    "conc = np.transpose(conc)\n",
    "print(np.shape(conc))\n",
    "\n",
    "test_list = conc.tolist()\n",
    "#print(test_list)"
   ]
  },
  {
   "cell_type": "code",
   "execution_count": 96,
   "id": "c90dc1ef",
   "metadata": {},
   "outputs": [
    {
     "name": "stdout",
     "output_type": "stream",
     "text": [
      "The dual list similarity counts : [(7.0, 11.0, 203)]\n"
     ]
    }
   ],
   "source": [
    "#Counting of the number of pairs\n",
    "from collections import Counter\n",
    " \n",
    "# using Counter() + map() + sorted() + items()\n",
    "temp = [sorted(ele) for ele in test_list]\n",
    "res = [(i, j, k) for (i, j), k in Counter(map(tuple, temp)).items()]\n",
    " \n",
    "# printing result\n",
    "print (\"The dual list similarity counts : \" + str(res))"
   ]
  },
  {
   "cell_type": "code",
   "execution_count": 112,
   "id": "99c8f5c1",
   "metadata": {},
   "outputs": [
    {
     "name": "stdout",
     "output_type": "stream",
     "text": [
      "Mean period is: 118079045.84236453\n",
      "Mean eccentricity is: 0.71928521608867\n"
     ]
    }
   ],
   "source": [
    "#FOR SIMULATIONS OF ONLY ONE PAIR\n",
    "\n",
    "filepath = \"/home/student/Documents/Computational_astrophysics/sorted_for_mass/sorted_results_stel_ev_m2_e4_10.txt\"\n",
    "data = np.genfromtxt(filepath,comments='#',unpack=True)\n",
    "data = np.transpose(data)\n",
    "\n",
    "ecc=data[:,8]\n",
    "p=data[:,9]\n",
    "\n",
    "p_mean = np.mean(p)\n",
    "print('Mean period is:',p_mean)\n",
    "ecc_mean = np.mean(ecc)\n",
    "print('Mean eccentricity is:',ecc_mean)"
   ]
  },
  {
   "cell_type": "code",
   "execution_count": null,
   "id": "749e8807",
   "metadata": {},
   "outputs": [],
   "source": []
  }
 ],
 "metadata": {
  "kernelspec": {
   "display_name": "Python 3 (ipykernel)",
   "language": "python",
   "name": "python3"
  },
  "language_info": {
   "codemirror_mode": {
    "name": "ipython",
    "version": 3
   },
   "file_extension": ".py",
   "mimetype": "text/x-python",
   "name": "python",
   "nbconvert_exporter": "python",
   "pygments_lexer": "ipython3",
   "version": "3.8.2"
  }
 },
 "nbformat": 4,
 "nbformat_minor": 5
}
