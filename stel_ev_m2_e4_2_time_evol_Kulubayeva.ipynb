{
 "cells": [
  {
   "cell_type": "code",
   "execution_count": 2,
   "metadata": {},
   "outputs": [],
   "source": [
    "import matplotlib.pyplot as plt \n",
    "import matplotlib.image as mpimg\n",
    "import numpy as np\n",
    "import scipy\n",
    "import os\n",
    "plt.rcParams.update({'font.size': 15})"
   ]
  },
  {
   "cell_type": "code",
   "execution_count": 3,
   "metadata": {},
   "outputs": [],
   "source": [
    "#data\n",
    "#name1, name2, mass1, mass2, xcm, ycm, zcm, a, ecc, P, time \n",
    "filepath=\"results_stel_ev_m2_e4_2_sorted.txt\" #insert correct path!\n",
    "n1,n2,m1,m2,xcm,ycm,zcm,a,ecc,P,time = np.genfromtxt(filepath,dtype=\"float\", unpack=True, skip_header=1,usecols=(0,1,2,3,4,5,6,7,8,9,10))\n",
    "n = len(n1)"
   ]
  },
  {
   "cell_type": "code",
   "execution_count": 4,
   "metadata": {},
   "outputs": [
    {
     "name": "stdout",
     "output_type": "stream",
     "text": [
      "BBH 1:  41.0 15.0\n"
     ]
    }
   ],
   "source": [
    "#binary systems that we have\n",
    "print('BBH 1: ', n1[0], n2[0])\n",
    "k=1\n",
    "for i in range(n-1):\n",
    "    if(n1[i] != n1[i+1] ) or (n2[i] != n2[i+1]):\n",
    "        k+=1\n",
    "        print('BBH',k, ': ',n1[i+1], n2[i+1])"
   ]
  },
  {
   "cell_type": "code",
   "execution_count": 5,
   "metadata": {},
   "outputs": [],
   "source": [
    "#data for BBH1\n",
    "m11 = []\n",
    "m21 = []\n",
    "xcm1 = []\n",
    "ycm1 = []\n",
    "zcm1 = []\n",
    "a1 = []\n",
    "ecc1 = []\n",
    "P1 = []\n",
    "time1 = []\n",
    "for i in range(n):\n",
    "    if (n1[i] == 41.0 and n2[i] ==15.0):\n",
    "        m11.append(m1[i])\n",
    "        m21.append(m2[i])\n",
    "        xcm1.append(xcm[i])\n",
    "        ycm1.append(ycm[i])\n",
    "        zcm1.append(zcm[i])\n",
    "        a1.append(a[i])\n",
    "        ecc1.append(ecc[i])\n",
    "        P1.append(P[i])\n",
    "        time1.append(time[i])\n",
    "\n",
    "m11 = np.array(m11)\n",
    "m21 = np.array(m21)\n",
    "xcm1 = np.array(xcm1)\n",
    "ycm1 = np.array(ycm1)\n",
    "zcm1 = np.array(zcm1)\n",
    "a1 = np.array(a1)\n",
    "ecc1 = np.array(ecc1)\n",
    "P1 = np.array(P1)\n",
    "time1 = np.array(time1)"
   ]
  }
 ],
 "metadata": {
  "kernelspec": {
   "display_name": "Python 3",
   "language": "python",
   "name": "python3"
  },
  "language_info": {
   "codemirror_mode": {
    "name": "ipython",
    "version": 3
   },
   "file_extension": ".py",
   "mimetype": "text/x-python",
   "name": "python",
   "nbconvert_exporter": "python",
   "pygments_lexer": "ipython3",
   "version": "3.8.5"
  }
 },
 "nbformat": 4,
 "nbformat_minor": 4
}
