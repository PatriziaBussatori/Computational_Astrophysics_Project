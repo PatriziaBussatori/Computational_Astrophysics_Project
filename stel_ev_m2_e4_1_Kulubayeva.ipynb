{
 "cells": [
  {
   "cell_type": "code",
   "execution_count": 1,
   "metadata": {},
   "outputs": [],
   "source": [
    "import matplotlib.pyplot as plt \n",
    "import matplotlib.image as mpimg\n",
    "import numpy as np\n",
    "import scipy\n",
    "import os\n",
    "plt.rcParams.update({'font.size': 15})"
   ]
  },
  {
   "cell_type": "code",
   "execution_count": 2,
   "metadata": {},
   "outputs": [],
   "source": [
    "#data\n",
    "#name1, name2, mass1, mass2, xcm, ycm, zcm, a, ecc, P, time \n",
    "filepath=\"sorted_results_stel_ev_m2_e4_1.txt\" \n",
    "n1,n2,m1,m2,xcm,ycm,zcm,a,ecc,P,time = np.genfromtxt(filepath,dtype=\"float\", unpack=True, skip_header=1,usecols=(0,1,2,3,4,5,6,7,8,9,10))\n",
    "n = len(n1)"
   ]
  },
  {
   "cell_type": "code",
   "execution_count": 3,
   "metadata": {},
   "outputs": [
    {
     "name": "stdout",
     "output_type": "stream",
     "text": [
      "3367\n"
     ]
    }
   ],
   "source": [
    "#interaction1: 2,1 and 2,13\n",
    "n1_int1 = []\n",
    "n2_int1 = []\n",
    "for i in range(n):\n",
    "    if(n1[i]==3.0 or n1[i] == 1.0 or n1[i]==5.0 or n1[i]==17.0):\n",
    "        n1_int1.append(n1[i])\n",
    "        n2_int1.append(n2[i])\n",
    "\n",
    "n1_int1 = np.array(n1_int1)\n",
    "n2_int1 = np.array(n2_int1)\n",
    "print(len(n1_int1))"
   ]
  },
  {
   "cell_type": "code",
   "execution_count": 4,
   "metadata": {},
   "outputs": [
    {
     "name": "stdout",
     "output_type": "stream",
     "text": [
      "BBH 1:  17.0 3.0\n",
      "BBH 2 :  3.0 1.0\n",
      "BBH 3 :  5.0 1.0\n",
      "BBH 4 :  17.0 3.0\n",
      "BBH 5 :  5.0 1.0\n",
      "BBH 6 :  17.0 3.0\n",
      "BBH 7 :  5.0 1.0\n",
      "BBH 8 :  17.0 3.0\n",
      "BBH 9 :  5.0 1.0\n",
      "BBH 10 :  17.0 3.0\n",
      "BBH 11 :  5.0 1.0\n",
      "BBH 12 :  17.0 3.0\n",
      "BBH 13 :  5.0 1.0\n",
      "BBH 14 :  17.0 3.0\n"
     ]
    }
   ],
   "source": [
    "n_int1 = len(n1_int1)\n",
    "print('BBH 1: ', n1_int1[0], n2_int1[0])\n",
    "k=1\n",
    "for i in range(n_int1-1):\n",
    "    if(n1_int1[i] != n1_int1[i+1] ) or (n2_int1[i] != n2_int1[i+1]):\n",
    "        k+=1\n",
    "        print('BBH',k, ': ',n1_int1[i+1], n2_int1[i+1])"
   ]
  },
  {
   "cell_type": "code",
   "execution_count": 5,
   "metadata": {},
   "outputs": [],
   "source": [
    "#data for BBH1\n",
    "m11 = []\n",
    "m21 = []\n",
    "xcm1 = []\n",
    "ycm1 = []\n",
    "zcm1 = []\n",
    "a1 = []\n",
    "ecc1 = []\n",
    "P1 = []\n",
    "time1 = []\n",
    "for i in range(n):\n",
    "    if (n1[i] == 3.0 and n2[i] ==1.0):\n",
    "        m11.append(m1[i])\n",
    "        m21.append(m2[i])\n",
    "        xcm1.append(xcm[i])\n",
    "        ycm1.append(ycm[i])\n",
    "        zcm1.append(zcm[i])\n",
    "        a1.append(a[i])\n",
    "        ecc1.append(ecc[i])\n",
    "        P1.append(P[i])\n",
    "        time1.append(time[i])\n",
    "\n",
    "m11 = np.array(m11)\n",
    "m21 = np.array(m21)\n",
    "xcm1 = np.array(xcm1)\n",
    "ycm1 = np.array(ycm1)\n",
    "zcm1 = np.array(zcm1)\n",
    "a1 = np.array(a1)\n",
    "ecc1 = np.array(ecc1)\n",
    "P1 = np.array(P1)\n",
    "time1 = np.array(time1)"
   ]
  },
  {
   "cell_type": "code",
   "execution_count": 6,
   "metadata": {},
   "outputs": [],
   "source": [
    "#data for BBH2\n",
    "m12 = []\n",
    "m22 = []\n",
    "xcm2 = []\n",
    "ycm2 = []\n",
    "zcm2 = []\n",
    "a2 = []\n",
    "ecc2 = []\n",
    "P2 = []\n",
    "time2 = []\n",
    "for i in range(n):\n",
    "    if (n1[i] == 5.0 and n2[i] ==1.0):\n",
    "        m12.append(m1[i])\n",
    "        m22.append(m2[i])\n",
    "        xcm2.append(xcm[i])\n",
    "        ycm2.append(ycm[i])\n",
    "        zcm2.append(zcm[i])\n",
    "        a2.append(a[i])\n",
    "        ecc2.append(ecc[i])\n",
    "        P2.append(P[i])\n",
    "        time2.append(time[i])\n",
    "\n",
    "m12 = np.array(m12)\n",
    "m22 = np.array(m22)\n",
    "xcm2 = np.array(xcm2)\n",
    "ycm2 = np.array(ycm2)\n",
    "zcm2 = np.array(zcm2)\n",
    "a2 = np.array(a2)\n",
    "ecc2 = np.array(ecc2)\n",
    "P2 = np.array(P2)\n",
    "time2 = np.array(time2)"
   ]
  },
  {
   "cell_type": "code",
   "execution_count": 7,
   "metadata": {},
   "outputs": [],
   "source": [
    "#data for BBH3\n",
    "m13 = []\n",
    "m23 = []\n",
    "xcm3 = []\n",
    "ycm3 = []\n",
    "zcm3 = []\n",
    "a3 = []\n",
    "ecc3 = []\n",
    "P3 = []\n",
    "time3 = []\n",
    "for i in range(n):\n",
    "    if (n1[i] == 17.0 and n2[i] ==3.0):\n",
    "        m13.append(m1[i])\n",
    "        m23.append(m2[i])\n",
    "        xcm3.append(xcm[i])\n",
    "        ycm3.append(ycm[i])\n",
    "        zcm3.append(zcm[i])\n",
    "        a3.append(a[i])\n",
    "        ecc3.append(ecc[i])\n",
    "        P3.append(P[i])\n",
    "        time3.append(time[i])\n",
    "\n",
    "m13 = np.array(m13)\n",
    "m23 = np.array(m23)\n",
    "xcm3 = np.array(xcm3)\n",
    "ycm3 = np.array(ycm3)\n",
    "zcm3 = np.array(zcm3)\n",
    "a3 = np.array(a3)\n",
    "ecc3 = np.array(ecc3)\n",
    "P3 = np.array(P3)\n",
    "time3 = np.array(time3)"
   ]
  },
  {
   "cell_type": "code",
   "execution_count": 8,
   "metadata": {},
   "outputs": [
    {
     "data": {
      "image/png": "[encoded data removed]",
      "text/plain": [
       "<Figure size 432x288 with 1 Axes>"
      ]
     },
     "metadata": {
      "needs_background": "light"
     },
     "output_type": "display_data"
    }
   ],
   "source": [
    "plt.scatter(time1, m11, color=\"r\", marker='.', s=10, label='BH3' ) \n",
    "plt.scatter(time1, m21, color=\"g\", marker='.', s=10, label='BH1' ) \n",
    "plt.scatter(time2, m12, color=\"b\", marker='.', s=10, label='BH5' )\n",
    "plt.scatter(time2, m22, color='g', marker='.', s=10)#BH1\n",
    "plt.scatter(time3, m13, color=\"black\", marker='.', s=10, label = 'BH17' )\n",
    "plt.scatter(time3, m23, color='r', marker='.', s=10)#BH3\n",
    "plt.xlabel('Time $[Myr]$', fontsize =15)\n",
    "plt.ylabel('Mass $[M_{\\odot}]$', fontsize =15)\n",
    "plt.legend()\n",
    "plt.grid(True)\n",
    "plt.tight_layout()\n",
    "\n",
    "plt.savefig('stel_ev_m2_e4_1_mass_int1', dpi=300)"
   ]
  },
  {
   "cell_type": "code",
   "execution_count": 9,
   "metadata": {},
   "outputs": [],
   "source": [
    "#binding energy e = G m1 m2/2 a\n",
    "\n",
    "Eb1 = np.zeros(len(time1), float)\n",
    "G = 17.83 #* 10**(38)\n",
    "Eb1 = G*m11*m21/(2*a1)\n",
    "\n",
    "Eb2 = np.zeros(len(time2), float)\n",
    "Eb2 = G*m12*m22/(2*a2)\n",
    "\n",
    "Eb3 = np.zeros(len(time3), float)\n",
    "Eb3 = G*m13*m23/(2*a3)\n",
    "\n"
   ]
  },
  {
   "cell_type": "code",
   "execution_count": 10,
   "metadata": {},
   "outputs": [],
   "source": [
    "#total mass\n",
    "mtot1 = np.zeros(len(time1), float)\n",
    "mtot1 = m11 + m21\n",
    "\n",
    "mtot2 = np.zeros(len(time2), float)\n",
    "mtot2 = m12 + m22\n",
    "\n",
    "mtot3 = np.zeros(len(time3), float)\n",
    "mtot3 = m13 + m23"
   ]
  },
  {
   "cell_type": "code",
   "execution_count": 12,
   "metadata": {},
   "outputs": [
    {
     "data": {
      "image/png": "[encoded data removed]",
      "text/plain": [
       "<Figure size 1152x288 with 3 Axes>"
      ]
     },
     "metadata": {
      "needs_background": "light"
     },
     "output_type": "display_data"
    }
   ],
   "source": [
    "#plot1: total mass vs time\n",
    "#plot2: binding energy vs time\n",
    "#plot3: ecc vs time\n",
    "\n",
    "#interaction1\n",
    "\n",
    "fig, axs = plt.subplots(1, 3)\n",
    "fig.tight_layout()\n",
    "fig.set_figheight(4)\n",
    "fig.set_figwidth(16)\n",
    "\n",
    "axs[0].scatter(time1, mtot1, color=\"g\", marker='.', s=10, label = 'BBH1')\n",
    "axs[0].scatter(time2, mtot2, color=\"r\", marker='.', s=10, label='BBH2')\n",
    "axs[0].scatter(time3, mtot3, color=\"b\", marker='.', s=10, label='BBH3')\n",
    "\n",
    "axs[0].legend()\n",
    "axs[0].set_xlabel('Time $[Myr]$', fontsize = 15)\n",
    "axs[0].set_ylabel('Total Mass $[M_{\\odot}]$', fontsize = 15)\n",
    "axs[0].grid(True)\n",
    "\n",
    "axs[1].scatter(time1, Eb1, color=\"g\", marker='.', s=10, label='BBH1')\n",
    "axs[1].scatter(time2, Eb2, color=\"r\", marker='.', s=10, label='BBH2')\n",
    "axs[1].scatter(time3, Eb3, color=\"b\", marker='.', s=10, label='BBH3')\n",
    "\n",
    "axs[1].legend()\n",
    "axs[1].set_xlabel('Time $[Myr]$', fontsize = 15)\n",
    "axs[1].set_ylabel('E$_{bind}$,[J $* 10^{38}$ ]', fontsize = 15)\n",
    "axs[1].grid(True)\n",
    "\n",
    "axs[2].scatter(time1, ecc1, color=\"g\", marker='.', s=10, label='BBH1')\n",
    "axs[2].scatter(time2, ecc2, color=\"r\", marker='.', s=10, label='BBH2')\n",
    "axs[2].scatter(time3, ecc3, color=\"b\", marker='.', s=10, label='BBH3')\n",
    "\n",
    "axs[2].legend()\n",
    "axs[2].set_xlabel('Time $[Myr]$', fontsize = 15)\n",
    "axs[2].set_ylabel('ecc', fontsize = 15)\n",
    "axs[2].grid(True)\n",
    "\n",
    "\n",
    "plt.savefig('stel_ev_m2_e4_1_subplots', dpi=300)"
   ]
  }
 ],
 "metadata": {
  "kernelspec": {
   "display_name": "Python 3",
   "language": "python",
   "name": "python3"
  },
  "language_info": {
   "codemirror_mode": {
    "name": "ipython",
    "version": 3
   },
   "file_extension": ".py",
   "mimetype": "text/x-python",
   "name": "python",
   "nbconvert_exporter": "python",
   "pygments_lexer": "ipython3",
   "version": "3.8.5"
  }
 },
 "nbformat": 4,
 "nbformat_minor": 4
}
